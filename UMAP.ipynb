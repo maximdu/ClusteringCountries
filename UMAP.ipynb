{
 "cells": [
  {
   "cell_type": "code",
   "execution_count": null,
   "metadata": {},
   "outputs": [],
   "source": [
    "# Загрузка данных\n",
    "import os\n",
    "import pandas as pd\n",
    "pd.set_option('display.max_columns', 25)\n",
    "# Визуализация\n",
    "import plotly.express as px\n",
    "import plotly.graph_objects as go\n",
    "# Сжатие и кластеризация\n",
    "from umap import UMAP\n",
    "from sklearn.cluster import KMeans, AgglomerativeClustering"
   ]
  },
  {
   "cell_type": "code",
   "execution_count": null,
   "metadata": {},
   "outputs": [],
   "source": [
    "# Период данных\n",
    "YEAR_1 = '2012'\n",
    "YEAR_2 = '2018'"
   ]
  },
  {
   "cell_type": "code",
   "execution_count": null,
   "metadata": {},
   "outputs": [],
   "source": [
    "umap_components = 3\n",
    "n_clusters = 3"
   ]
  },
  {
   "cell_type": "code",
   "execution_count": null,
   "metadata": {},
   "outputs": [],
   "source": [
    "files = [\n",
    " 'Adolescent fertility rate (births per 1,000 women ages 15-19).csv',\n",
    " 'CO2 emissions (metric tons per capita).csv',\n",
    " 'Employment in agriculture, female.csv',\n",
    " 'Employment in agriculture, male.csv',\n",
    " 'Employment in industry, female.csv',\n",
    " 'Employment in industry, male.csv',\n",
    " 'Employment in services, female.csv',\n",
    " 'Employment in services, male.csv',\n",
    " 'Exports of goods and services (% of GDP).csv',\n",
    " 'Fertility rate, total (births per woman).csv',\n",
    " 'Fuel exports (% of exports).csv',\n",
    " 'GDP per capita, PPP.csv',\n",
    " 'Imports of goods and services (% of GDP).csv',\n",
    " 'Life expectancy.csv',\n",
    " 'Ores and metals exports (% of exports).csv',\n",
    " 'Population ages 0-14 (% of total population).csv',\n",
    " 'Population ages 15-64 (% of total population).csv',\n",
    " 'Population ages 65 and above (% of total population).csv',\n",
    " 'Population growth (annual %).csv',\n",
    "\n",
    "# Показатели с небольшим числом наблюдений не включаем\n",
    "#  'Research and development expenditure (% of GDP).csv',\n",
    "#  'Cereal yield (kg per hectare).csv',\n",
    "#  'High-technology exports (% of exports).csv',\n",
    "#  'Income share held by fourth 20%.csv',\n",
    "#  'Income share held by highest 10%.csv',\n",
    "#  'Income share held by highest 20%.csv',\n",
    "#  'Income share held by lowest 10%.csv',\n",
    "#  'Income share held by lowest 20%.csv',\n",
    "#  'Income share held by second 20%.csv',\n",
    "#  'Income share held by third 20%.csv',\n",
    "#  'Intentional homicides (per 100,000 people).csv',\n",
    "\n",
    "]"
   ]
  },
  {
   "cell_type": "code",
   "execution_count": null,
   "metadata": {},
   "outputs": [],
   "source": [
    "df = pd.DataFrame()\n",
    "for file in files:\n",
    "    # Открываем файл, считаем среднее за 2012-2018 годы по показателю\n",
    "    series = pd.read_csv(f'data/{file}', skiprows=4, index_col='Country Name').loc[:, YEAR_1:YEAR_2].mean(axis=1)\n",
    "    df[file.replace('.csv', '')] = series"
   ]
  },
  {
   "cell_type": "code",
   "execution_count": null,
   "metadata": {},
   "outputs": [],
   "source": [
    "df.info()\n",
    "df = df.dropna()\n",
    "print(len(df))"
   ]
  },
  {
   "cell_type": "code",
   "execution_count": null,
   "metadata": {},
   "outputs": [],
   "source": [
    "# Нормализация данных\n",
    "df = (df - df.min()) / (df.max() - df.min())"
   ]
  },
  {
   "cell_type": "code",
   "execution_count": null,
   "metadata": {},
   "outputs": [],
   "source": [
    "# df.to_excel('data_norm.xlsx')"
   ]
  },
  {
   "cell_type": "code",
   "execution_count": null,
   "metadata": {},
   "outputs": [],
   "source": [
    "# Сжатие размерности\n",
    "\n",
    "umap_names = [f'UMAP {n+1}' for n in range(umap_components)]\n",
    "umap = UMAP(n_components=umap_components, random_state=0)\n",
    "\n",
    "for umap_name, umap_values in zip(umap_names, umap.fit_transform(df).T):\n",
    "    df[umap_name] = umap_values"
   ]
  },
  {
   "cell_type": "code",
   "execution_count": null,
   "metadata": {},
   "outputs": [],
   "source": [
    "# Кластеризация\n",
    "\n",
    "# clust = KMeans(n_clusters=n_clusters, random_state=0)\n",
    "clust = AgglomerativeClustering(n_clusters=n_clusters, linkage='single')\n",
    "df['cluster'] = clust.fit_predict(df[umap_names])"
   ]
  },
  {
   "cell_type": "code",
   "execution_count": null,
   "metadata": {},
   "outputs": [],
   "source": [
    "# Визуализация сжатых данных (UMAP)\n",
    "\n",
    "COLORS = ['green', 'red', 'orange']\n",
    "\n",
    "fig = px.scatter_3d(df, x='UMAP 1', y='UMAP 2', z='UMAP 3',\n",
    "                    hover_name=df.index, color='cluster', color_continuous_scale=COLORS)\n",
    "\n",
    "fig.update_layout(plot_bgcolor='white', width=1920-2*8, height=1080-2*8, font_size=15, margin=dict(l=0,r=0,t=0,b=0))\n",
    "fig.update_layout(coloraxis_showscale=False)\n",
    "#\n",
    "# fig.write_html('Presentation/UMAP Dots.html')\n",
    "#\n",
    "fig.show()"
   ]
  },
  {
   "cell_type": "code",
   "execution_count": null,
   "metadata": {},
   "outputs": [],
   "source": [
    "# Средние значения по кластерам\n",
    "df_cluster_mean = df.groupby('cluster').mean().sort_values(by='Life expectancy')\n",
    "df_cluster_mean"
   ]
  },
  {
   "cell_type": "code",
   "execution_count": null,
   "metadata": {},
   "outputs": [],
   "source": [
    "# df_cluster_mean.to_excel('cluster_mean.xlsx')"
   ]
  },
  {
   "cell_type": "code",
   "execution_count": null,
   "metadata": {},
   "outputs": [],
   "source": [
    "# Подбор оптимального числа кластеров\n",
    "# Метод локтя\n",
    "def k_tuning(k):\n",
    "    clust = KMeans(n_clusters=k)\n",
    "    clust.fit_predict(df[['UMAP 1', 'UMAP 2', 'UMAP 3']])\n",
    "    return clust.inertia_"
   ]
  },
  {
   "cell_type": "code",
   "execution_count": null,
   "metadata": {},
   "outputs": [],
   "source": [
    "k_tuning_list = [k_tuning(k) for k in range(1, 20 + 1)]\n",
    "one_cluster = k_tuning_list[0]"
   ]
  },
  {
   "cell_type": "code",
   "execution_count": null,
   "metadata": {},
   "outputs": [],
   "source": [
    "fig = go.Figure()\n",
    "\n",
    "fig.add_traces(go.Scatter(x=list(range(1, 20 + 1)),y=k_tuning_list, mode='lines+markers', marker_color='black'))\n",
    "fig.add_traces(go.Scatter(x=[1, 20], y=[k_tuning_list[0], k_tuning_list[-1]], marker_color='red', line_dash='dash'))\n",
    "fig.update_layout(plot_bgcolor='white', width=1920-2*8, height=1080-2*8, font_size=15, margin=dict(l=0,r=0,t=0,b=0))\n",
    "\n",
    "#\n",
    "# fig.write_html('Presentation/UMAP N Clusters.html')\n",
    "#\n",
    "\n",
    "fig.show()"
   ]
  },
  {
   "cell_type": "code",
   "execution_count": null,
   "metadata": {
    "scrolled": false
   },
   "outputs": [],
   "source": [
    "# Считывает коды стран\n",
    "# Необходимо для карты\n",
    "file = os.listdir('data')[0]\n",
    "codes = pd.read_csv(f'data/{file}', skiprows=4, index_col='Country Name')['Country Code']\n",
    "df['code'] = codes"
   ]
  },
  {
   "cell_type": "code",
   "execution_count": null,
   "metadata": {},
   "outputs": [],
   "source": [
    "# Карта кластеров\n",
    "fig = px.choropleth(df, locations='code',\n",
    "                    color='cluster',\n",
    "                    hover_name=df.index,\n",
    "                    projection='natural earth',\n",
    "                    color_continuous_scale=COLORS)\n",
    "\n",
    "fig.update_layout(coloraxis_showscale=False)\n",
    "fig.update_layout(plot_bgcolor='white', width=1920-2*8, height=1080-2*8, margin=dict(l=0,r=0,t=0,b=0))\n",
    "#\n",
    "# fig.write_html('Presentation/UMAP Map.html')\n",
    "#\n",
    "fig.show()"
   ]
  },
  {
   "cell_type": "code",
   "execution_count": null,
   "metadata": {
    "scrolled": false
   },
   "outputs": [],
   "source": [
    "df.to_excel('umap_result.xlsx')"
   ]
  },
  {
   "cell_type": "code",
   "execution_count": null,
   "metadata": {},
   "outputs": [],
   "source": [
    "# Вычисляем средние показатели неравенства по кластерам\n",
    "df_extra = df[['GDP per capita, PPP', 'cluster']].copy()\n",
    "for file in os.listdir('data_extra'):\n",
    "    series = pd.read_csv(f'data/{file}', skiprows=4, index_col='Country Name').loc[:, YEAR_1:YEAR_2].mean(axis=1)\n",
    "    df_extra[file.replace('.csv', '')] = series"
   ]
  },
  {
   "cell_type": "code",
   "execution_count": null,
   "metadata": {},
   "outputs": [],
   "source": [
    "df_extra_cluster_mean = df_extra.groupby('cluster').mean().sort_values(by='GDP per capita, PPP')\n",
    "df_extra_cluster_mean"
   ]
  },
  {
   "cell_type": "code",
   "execution_count": null,
   "metadata": {},
   "outputs": [],
   "source": [
    "# df_extra_cluster_mean.to_excel('extra_cluster_mean.xlsx')"
   ]
  },
  {
   "cell_type": "code",
   "execution_count": null,
   "metadata": {},
   "outputs": [],
   "source": []
  }
 ],
 "metadata": {
  "kernelspec": {
   "display_name": "Python 3",
   "language": "python",
   "name": "python3"
  },
  "language_info": {
   "codemirror_mode": {
    "name": "ipython",
    "version": 3
   },
   "file_extension": ".py",
   "mimetype": "text/x-python",
   "name": "python",
   "nbconvert_exporter": "python",
   "pygments_lexer": "ipython3",
   "version": "3.7.6"
  }
 },
 "nbformat": 4,
 "nbformat_minor": 4
}
